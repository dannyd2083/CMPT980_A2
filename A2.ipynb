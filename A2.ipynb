{
 "cells": [
  {
   "metadata": {},
   "cell_type": "markdown",
   "source": [
    "# Assignment 2: Classification Analysis\n",
    "\n",
    "## Dataset: Phishing Websites Dataset\n",
    "\n",
    "**Selected Dataset**: UCI Phishing Websites Dataset (ID: 327)\n",
    "\n",
    "**Classification Task**: Binary classification to detect phishing websites vs legitimate websites\n"
   ],
   "id": "f217a1ae2e4c09e3"
  },
  {
   "metadata": {
    "ExecuteTime": {
     "end_time": "2025-10-01T03:19:40.126252Z",
     "start_time": "2025-10-01T03:19:40.120729Z"
    }
   },
   "cell_type": "code",
   "source": [
    "def brute_froce_LOO(X_train, y_train, X_test, y_test, idx_list, ap_baseline):\n",
    "\n",
    "    print(\"Brute Force LOO Running...\")\n",
    "\n",
    "    records = []\n",
    "    for i in idx_list:\n",
    "        mask = np.ones(X_train.shape[0], dtype=bool)\n",
    "        mask[i] = False\n",
    "        X_tr, y_tr = X_train[mask], y_train[mask]\n",
    "\n",
    "        rf = RandomForestClassifier(n_estimators=300, random_state=7, n_jobs=-1)\n",
    "        rf.fit(X_tr, y_tr)\n",
    "        proba = rf.predict_proba(X_test)[:, 1]\n",
    "        ap_loo = average_precision_score(y_test, proba)\n",
    "        impact = ap_baseline - ap_loo\n",
    "\n",
    "        records.append({\"train_idx\": i, \"AP_full\": ap_baseline, \"AP_LOO\": ap_loo, \"Impact\": impact})\n",
    "        print(f\"Removed train idx {i} | AP_LOO={ap_loo:.4f} | Impact={impact:+.4f}\")\n",
    "\n",
    "    df = pd.DataFrame(records).sort_values(by=\"Impact\", ascending=False).reset_index(drop=True)\n",
    "\n",
    "    plt.figure(figsize=(10, 6))\n",
    "    plt.bar(range(len(df)), df[\"Impact\"])\n",
    "    plt.xticks(range(len(df)), df[\"train_idx\"].astype(str), rotation=45, ha=\"right\")\n",
    "    plt.ylabel(\"Impact (AP_full - AP_LOO)\")\n",
    "    plt.title(\"LOO Impact on AP using RandomForest\")\n",
    "    plt.tight_layout()\n",
    "    plt.show()\n",
    "\n",
    "    print(\"\\nBrute Force LOO Result\")\n",
    "    print(df.to_string(index=False, float_format=lambda x: f\"{x:.4f}\"))\n",
    "    return df"
   ],
   "id": "8a68b4f7017f6585",
   "outputs": [],
   "execution_count": 26
  },
  {
   "cell_type": "code",
   "id": "d2377dad",
   "metadata": {
    "ExecuteTime": {
     "end_time": "2025-10-01T03:19:40.155246Z",
     "start_time": "2025-10-01T03:19:40.150796Z"
    }
   },
   "source": [
    "def confusion_matrix_plot(y_true, y_pred, labels):\n",
    "    cm = confusion_matrix(y_true, y_pred, labels=range(len(labels)))\n",
    "    fig = plt.figure(figsize=(6, 6))\n",
    "    ax = fig.add_subplot(111)\n",
    "    ax.imshow(cm, interpolation=\"nearest\", cmap=\"Blues\")\n",
    "\n",
    "    ticks = np.arange(len(labels))\n",
    "    ax.set_xticks(ticks); ax.set_xticklabels(labels, rotation=45, ha=\"right\")\n",
    "    ax.set_yticks(ticks); ax.set_yticklabels(labels)\n",
    "\n",
    "    ax.set_title(\"Confusion Matrix\")\n",
    "    ax.set_xlabel(\"Predicted label\")\n",
    "    ax.set_ylabel(\"True label\")\n",
    "\n",
    "    for i in range(cm.shape[0]):\n",
    "        for j in range(cm.shape[1]):\n",
    "            ax.text(j, i, str(cm[i, j]), ha=\"center\", va=\"center\")\n",
    "    fig.tight_layout()\n",
    "    plt.show()"
   ],
   "outputs": [],
   "execution_count": 27
  },
  {
   "cell_type": "code",
   "id": "2117ba16",
   "metadata": {
    "ExecuteTime": {
     "end_time": "2025-10-01T03:19:40.165261Z",
     "start_time": "2025-10-01T03:19:40.161759Z"
    }
   },
   "source": [
    "def pr_curve_binary(y_true, proba, title=\"Precision-Recall Curve\"):\n",
    "    precision, recall, _ = precision_recall_curve(y_true, proba)\n",
    "    ap = average_precision_score(y_true, proba)\n",
    "    plt.figure(figsize=(6, 6))\n",
    "    plt.plot(recall, precision, lw=2, label=f\"AP={ap:.3f}\")\n",
    "    plt.xlabel(\"Recall\"); plt.ylabel(\"Precision\")\n",
    "    plt.title(title)\n",
    "    plt.legend()\n",
    "    plt.tight_layout()\n",
    "    plt.show()\n",
    "    return ap"
   ],
   "outputs": [],
   "execution_count": 28
  },
  {
   "cell_type": "code",
   "id": "0a31f008",
   "metadata": {
    "ExecuteTime": {
     "end_time": "2025-10-01T03:19:40.174896Z",
     "start_time": "2025-10-01T03:19:40.170772Z"
    }
   },
   "source": [
    "def roc_curve_binary(y_true, proba, title=\"ROC Curve\"):\n",
    "    fpr, tpr, _ = roc_curve(y_true, proba)\n",
    "    auc = roc_auc_score(y_true, proba)\n",
    "    plt.figure(figsize=(6, 6))\n",
    "    plt.plot(fpr, tpr, lw=2, label=f\"AUC={auc:.3f}\")\n",
    "    plt.plot([0, 1], [0, 1], \"--\")\n",
    "    plt.xlabel(\"False Positive Rate\"); plt.ylabel(\"True Positive Rate\")\n",
    "    plt.title(title)\n",
    "    plt.legend()\n",
    "    plt.tight_layout()\n",
    "    plt.show()\n",
    "    return auc\n"
   ],
   "outputs": [],
   "execution_count": 29
  },
  {
   "cell_type": "code",
   "id": "6b976418",
   "metadata": {
    "ExecuteTime": {
     "end_time": "2025-10-01T03:19:40.185538Z",
     "start_time": "2025-10-01T03:19:40.180921Z"
    }
   },
   "source": [
    "def train_eval(model_name, model, X_train, X_test, y_train, y_test):\n",
    "    model.fit(X_train, y_train)\n",
    "    y_pred = model.predict(X_test)\n",
    "\n",
    "    acc  = accuracy_score(y_test, y_pred)\n",
    "    f1m  = f1_score(y_test, y_pred, average=\"macro\")\n",
    "\n",
    "    print(f\"\\n{model_name} is trained and evaluated\")\n",
    "    print(f\"Accuracy: {acc:.4f} | F1(macro): {f1m:.4f}\")\n",
    "    print(classification_report(y_test, y_pred, target_names=[\"Legit\", \"Phishing\"], digits=4))\n",
    "\n",
    "    proba = model.predict_proba(X_test)[:, 1] if hasattr(model, \"predict_proba\") else None\n",
    "    ap = average_precision_score(y_test, proba) if proba is not None else np.nan\n",
    "    rocauc = roc_auc_score(y_test, proba) if proba is not None else np.nan\n",
    "    print(f\"AP(PR-AUC): {ap:.4f} | ROC-AUC: {rocauc:.4f}\")\n",
    "\n",
    "    return (model_name, y_pred, proba, acc, f1m, ap, rocauc)"
   ],
   "outputs": [],
   "execution_count": 30
  },
  {
   "metadata": {},
   "cell_type": "markdown",
   "source": "## 1. Import Libraries and Load Dataset (2 marks)",
   "id": "cc1f95ce6edd8310"
  },
  {
   "cell_type": "code",
   "id": "670b87a2",
   "metadata": {
    "ExecuteTime": {
     "end_time": "2025-10-01T03:19:40.195054Z",
     "start_time": "2025-10-01T03:19:40.190542Z"
    }
   },
   "source": [
    "import numpy as np\n",
    "import pandas as pd\n",
    "import matplotlib.pyplot as plt\n",
    "from ucimlrepo import fetch_ucirepo\n",
    "\n",
    "from sklearn.model_selection import train_test_split\n",
    "from sklearn.preprocessing import StandardScaler\n",
    "from sklearn.metrics import (\n",
    "    accuracy_score, f1_score, classification_report, confusion_matrix,\n",
    "    precision_recall_curve, average_precision_score, roc_auc_score, roc_curve\n",
    ")\n",
    "from sklearn.neighbors import KNeighborsClassifier\n",
    "from sklearn.linear_model import LogisticRegression\n",
    "from sklearn.ensemble import RandomForestClassifier\n",
    "from sklearn.svm import SVC"
   ],
   "outputs": [],
   "execution_count": 31
  },
  {
   "metadata": {},
   "cell_type": "markdown",
   "source": [
    "### 1.1 Load Dataset\n",
    "Loading the Phishing Websites dataset from UCI repository."
   ],
   "id": "840b2c2169c32db5"
  },
  {
   "metadata": {
    "ExecuteTime": {
     "end_time": "2025-10-01T03:19:40.689883Z",
     "start_time": "2025-10-01T03:19:40.201705Z"
    }
   },
   "cell_type": "code",
   "source": [
    "\n",
    "phishing_websites = fetch_ucirepo(id=327)\n",
    "X = phishing_websites.data.features.values\n",
    "y = phishing_websites.data.targets.values.ravel()\n",
    "y = np.where(y == -1, 0, 1)\n",
    "labels = [\"Legit\", \"Phishing\"]"
   ],
   "id": "bea3315805e1b18f",
   "outputs": [],
   "execution_count": 32
  },
  {
   "metadata": {},
   "cell_type": "markdown",
   "source": [
    "## 2. Process Features and Labels (2 marks)\n",
    "The dataset contains 30 numerical features extracted from website URLs and HTML content.\n",
    "All features are already numerical, so we only need standardization.\n",
    "## 3.Train/Test Split (2 marks)\n",
    "**Split strategy**: 75/25 stratified random split\n",
    "- Training set: 75% of data\n",
    "- Test set: 25% of data\n",
    "- Random state: 42 for reproducibility"
   ],
   "id": "d7271c7c2e8ee5e9"
  },
  {
   "metadata": {
    "ExecuteTime": {
     "end_time": "2025-10-01T03:19:40.707353Z",
     "start_time": "2025-10-01T03:19:40.695393Z"
    }
   },
   "cell_type": "code",
   "source": [
    "X_train, X_test, y_train, y_test = train_test_split(\n",
    "    X, y, test_size=0.25, random_state=42, stratify=y\n",
    ")\n",
    "# Standardize numeric features\n",
    "scaler = StandardScaler()\n",
    "X_train_scaled = scaler.fit_transform(X_train)\n",
    "X_test_scaled  = scaler.transform(X_test)\n"
   ],
   "id": "1e06bfd4ce13103c",
   "outputs": [],
   "execution_count": 33
  },
  {
   "metadata": {},
   "cell_type": "markdown",
   "source": [
    "## 4. Train Classifiers (2 marks)\n",
    "\n",
    "**Selected models**:\n",
    "1. **K-Nearest Neighbors (KNN)**\n",
    "2. **Logistic Regression**\n",
    "3. **Support Vector Machine (SVC)**\n",
    "4. **Random Forest**"
   ],
   "id": "2bfb23e36b3edf58"
  },
  {
   "metadata": {
    "ExecuteTime": {
     "end_time": "2025-10-01T03:19:44.246228Z",
     "start_time": "2025-10-01T03:19:40.712879Z"
    }
   },
   "cell_type": "code",
   "source": [
    "\n",
    "models = [\n",
    "    (\"KNN\", KNeighborsClassifier(n_neighbors=15)),\n",
    "    (\"Logistic Regression\", LogisticRegression(max_iter=1000, random_state=7, class_weight=\"balanced\")),\n",
    "    (\"SVC\", SVC(kernel=\"rbf\", probability=True, random_state=7, class_weight=\"balanced\")),\n",
    "    (\"Random Forest\", RandomForestClassifier(n_estimators=300, random_state=7, n_jobs=-1)),\n",
    "]\n",
    "\n",
    "results = []\n",
    "for name, model in models:\n",
    "    results.append(train_eval(name, model, X_train_scaled, X_test_scaled, y_train, y_test))"
   ],
   "id": "3819431a9550f0bc",
   "outputs": [
    {
     "name": "stdout",
     "output_type": "stream",
     "text": [
      "\n",
      "KNN is trained and evaluated\n",
      "Accuracy: 0.9392 | F1(macro): 0.9385\n",
      "              precision    recall  f1-score   support\n",
      "\n",
      "       Legit     0.9286    0.9347    0.9317      1225\n",
      "    Phishing     0.9477    0.9428    0.9453      1539\n",
      "\n",
      "    accuracy                         0.9392      2764\n",
      "   macro avg     0.9382    0.9388    0.9385      2764\n",
      "weighted avg     0.9393    0.9392    0.9392      2764\n",
      "\n",
      "AP(PR-AUC): 0.9849 | ROC-AUC: 0.9849\n",
      "\n",
      "Logistic Regression is trained and evaluated\n",
      "Accuracy: 0.9287 | F1(macro): 0.9278\n",
      "              precision    recall  f1-score   support\n",
      "\n",
      "       Legit     0.9186    0.9208    0.9197      1225\n",
      "    Phishing     0.9368    0.9350    0.9359      1539\n",
      "\n",
      "    accuracy                         0.9287      2764\n",
      "   macro avg     0.9277    0.9279    0.9278      2764\n",
      "weighted avg     0.9287    0.9287    0.9287      2764\n",
      "\n",
      "AP(PR-AUC): 0.9851 | ROC-AUC: 0.9815\n",
      "\n",
      "SVC is trained and evaluated\n",
      "Accuracy: 0.9541 | F1(macro): 0.9533\n",
      "              precision    recall  f1-score   support\n",
      "\n",
      "       Legit     0.9583    0.9371    0.9476      1225\n",
      "    Phishing     0.9508    0.9675    0.9591      1539\n",
      "\n",
      "    accuracy                         0.9541      2764\n",
      "   macro avg     0.9545    0.9523    0.9533      2764\n",
      "weighted avg     0.9541    0.9541    0.9540      2764\n",
      "\n",
      "AP(PR-AUC): 0.9929 | ROC-AUC: 0.9909\n",
      "\n",
      "Random Forest is trained and evaluated\n",
      "Accuracy: 0.9747 | F1(macro): 0.9743\n",
      "              precision    recall  f1-score   support\n",
      "\n",
      "       Legit     0.9825    0.9600    0.9711      1225\n",
      "    Phishing     0.9687    0.9864    0.9775      1539\n",
      "\n",
      "    accuracy                         0.9747      2764\n",
      "   macro avg     0.9756    0.9732    0.9743      2764\n",
      "weighted avg     0.9748    0.9747    0.9746      2764\n",
      "\n",
      "AP(PR-AUC): 0.9983 | ROC-AUC: 0.9979\n"
     ]
    }
   ],
   "execution_count": 34
  },
  {
   "metadata": {},
   "cell_type": "markdown",
   "source": [
    "## 5. Performance Evaluation\n",
    "\n",
    "### Primary Metric: Average Precision (AP) (2 marks)\n",
    "**Choice**: Average Precision (area under precision-recall curve)"
   ],
   "id": "d0b446fec56f9585"
  },
  {
   "metadata": {
    "ExecuteTime": {
     "end_time": "2025-10-01T03:19:44.293272Z",
     "start_time": "2025-10-01T03:19:44.289268Z"
    }
   },
   "cell_type": "code",
   "source": [
    "\n",
    "best = max(results, key=lambda t: t[5])\n",
    "print(f\"Best by AP: {best[0]} | AP={best[5]:.4f}\")\n",
    "best_model_name, best_pred, best_proba, best_acc, best_f1m, best_ap, best_rocauc = best\n",
    "print(f\"\\nBest model by AP: {best_model_name} | AP={best_ap:.4f} | F1m={best_f1m:.4f} | Acc={best_acc:.4f}\")"
   ],
   "id": "2ca316c4c2798c88",
   "outputs": [
    {
     "name": "stdout",
     "output_type": "stream",
     "text": [
      "Best by AP: Random Forest | AP=0.9983\n",
      "\n",
      "Best model by AP: Random Forest | AP=0.9983 | F1m=0.9743 | Acc=0.9747\n"
     ]
    }
   ],
   "execution_count": 35
  },
  {
   "metadata": {},
   "cell_type": "markdown",
   "source": "### Confusion Matrix",
   "id": "d15ff7bab324b3ea"
  },
  {
   "metadata": {
    "ExecuteTime": {
     "end_time": "2025-10-01T03:19:44.362371Z",
     "start_time": "2025-10-01T03:19:44.311816Z"
    }
   },
   "cell_type": "code",
   "source": "confusion_matrix_plot(y_test, best_pred, labels)",
   "id": "411d65f515b3df24",
   "outputs": [
    {
     "data": {
      "text/plain": [
       "<Figure size 600x600 with 1 Axes>"
      ],
      "image/png": "[encoded data removed]"
     },
     "metadata": {},
     "output_type": "display_data",
     "jetTransient": {
      "display_id": null
     }
    }
   ],
   "execution_count": 36
  },
  {
   "metadata": {},
   "cell_type": "markdown",
   "source": "### Precision-Recall Curve",
   "id": "572924b59b088459"
  },
  {
   "metadata": {
    "ExecuteTime": {
     "end_time": "2025-10-01T03:19:44.446550Z",
     "start_time": "2025-10-01T03:19:44.368896Z"
    }
   },
   "cell_type": "code",
   "source": "pr_curve_binary(y_test, best_proba, title=f\"PR Curve - {best_model_name}\")",
   "id": "640f2a34830690f",
   "outputs": [
    {
     "data": {
      "text/plain": [
       "<Figure size 600x600 with 1 Axes>"
      ],
      "image/png": "[encoded data removed]"
     },
     "metadata": {},
     "output_type": "display_data",
     "jetTransient": {
      "display_id": null
     }
    },
    {
     "data": {
      "text/plain": [
       "0.998286347905662"
      ]
     },
     "execution_count": 37,
     "metadata": {},
     "output_type": "execute_result"
    }
   ],
   "execution_count": 37
  },
  {
   "metadata": {},
   "cell_type": "markdown",
   "source": "### ROC Curve",
   "id": "c8990de34db2b80"
  },
  {
   "metadata": {
    "ExecuteTime": {
     "end_time": "2025-10-01T03:19:44.576485Z",
     "start_time": "2025-10-01T03:19:44.454068Z"
    }
   },
   "cell_type": "code",
   "source": "roc_curve_binary(y_test, best_proba, title=f\"ROC Curve - {best_model_name}\")",
   "id": "32dc38910423ee6",
   "outputs": [
    {
     "data": {
      "text/plain": [
       "<Figure size 600x600 with 1 Axes>"
      ],
      "image/png": "[encoded data removed]"
     },
     "metadata": {},
     "output_type": "display_data",
     "jetTransient": {
      "display_id": null
     }
    },
    {
     "data": {
      "text/plain": [
       "0.9978509766479691"
      ]
     },
     "execution_count": 38,
     "metadata": {},
     "output_type": "execute_result"
    }
   ],
   "execution_count": 38
  },
  {
   "metadata": {},
   "cell_type": "markdown",
   "source": "## Part 2: Brute Force LOO Influence (8 marks)",
   "id": "ab5f4e9eb5ae4ae3"
  },
  {
   "metadata": {
    "ExecuteTime": {
     "end_time": "2025-10-01T03:19:49.823620Z",
     "start_time": "2025-10-01T03:19:44.600036Z"
    }
   },
   "cell_type": "code",
   "source": [
    "idx_list = [0, 799, 1599, 2399, 3199, 3999, 4799, 5599, 6399, 7199]\n",
    "brute_froce_LOO(X_train_scaled, y_train, X_test_scaled, y_test, idx_list, best_ap)"
   ],
   "id": "d964bf2aa1101d27",
   "outputs": [
    {
     "name": "stdout",
     "output_type": "stream",
     "text": [
      "Brute Force LOO Running...\n",
      "Removed train idx 0 | AP_LOO=0.9982 | Impact=+0.0000\n",
      "Removed train idx 799 | AP_LOO=0.9983 | Impact=-0.0000\n",
      "Removed train idx 1599 | AP_LOO=0.9983 | Impact=-0.0000\n",
      "Removed train idx 2399 | AP_LOO=0.9983 | Impact=-0.0000\n",
      "Removed train idx 3199 | AP_LOO=0.9982 | Impact=+0.0000\n",
      "Removed train idx 3999 | AP_LOO=0.9983 | Impact=+0.0000\n",
      "Removed train idx 4799 | AP_LOO=0.9983 | Impact=+0.0000\n",
      "Removed train idx 5599 | AP_LOO=0.9983 | Impact=+0.0000\n",
      "Removed train idx 6399 | AP_LOO=0.9983 | Impact=-0.0000\n",
      "Removed train idx 7199 | AP_LOO=0.9983 | Impact=+0.0000\n"
     ]
    },
    {
     "data": {
      "text/plain": [
       "<Figure size 1000x600 with 1 Axes>"
      ],
      "image/png": "[encoded data removed]"
     },
     "metadata": {},
     "output_type": "display_data",
     "jetTransient": {
      "display_id": null
     }
    },
    {
     "name": "stdout",
     "output_type": "stream",
     "text": [
      "\n",
      "Brute Force LOO Result\n",
      " train_idx  AP_full  AP_LOO  Impact\n",
      "         0   0.9983  0.9982  0.0000\n",
      "      3199   0.9983  0.9982  0.0000\n",
      "      3999   0.9983  0.9983  0.0000\n",
      "      4799   0.9983  0.9983  0.0000\n",
      "      5599   0.9983  0.9983  0.0000\n",
      "      7199   0.9983  0.9983  0.0000\n",
      "      6399   0.9983  0.9983 -0.0000\n",
      "      1599   0.9983  0.9983 -0.0000\n",
      "      2399   0.9983  0.9983 -0.0000\n",
      "       799   0.9983  0.9983 -0.0000\n"
     ]
    },
    {
     "data": {
      "text/plain": [
       "   train_idx   AP_full    AP_LOO    Impact\n",
       "0          0  0.998286  0.998244  0.000042\n",
       "1       3199  0.998286  0.998249  0.000037\n",
       "2       3999  0.998286  0.998250  0.000036\n",
       "3       4799  0.998286  0.998275  0.000011\n",
       "4       5599  0.998286  0.998276  0.000011\n",
       "5       7199  0.998286  0.998284  0.000002\n",
       "6       6399  0.998286  0.998302 -0.000015\n",
       "7       1599  0.998286  0.998304 -0.000018\n",
       "8       2399  0.998286  0.998320 -0.000034\n",
       "9        799  0.998286  0.998321 -0.000034"
      ],
      "text/html": [
       "<div>\n",
       "<style scoped>\n",
       "    .dataframe tbody tr th:only-of-type {\n",
       "        vertical-align: middle;\n",
       "    }\n",
       "\n",
       "    .dataframe tbody tr th {\n",
       "        vertical-align: top;\n",
       "    }\n",
       "\n",
       "    .dataframe thead th {\n",
       "        text-align: right;\n",
       "    }\n",
       "</style>\n",
       "<table border=\"1\" class=\"dataframe\">\n",
       "  <thead>\n",
       "    <tr style=\"text-align: right;\">\n",
       "      <th></th>\n",
       "      <th>train_idx</th>\n",
       "      <th>AP_full</th>\n",
       "      <th>AP_LOO</th>\n",
       "      <th>Impact</th>\n",
       "    </tr>\n",
       "  </thead>\n",
       "  <tbody>\n",
       "    <tr>\n",
       "      <th>0</th>\n",
       "      <td>0</td>\n",
       "      <td>0.998286</td>\n",
       "      <td>0.998244</td>\n",
       "      <td>0.000042</td>\n",
       "    </tr>\n",
       "    <tr>\n",
       "      <th>1</th>\n",
       "      <td>3199</td>\n",
       "      <td>0.998286</td>\n",
       "      <td>0.998249</td>\n",
       "      <td>0.000037</td>\n",
       "    </tr>\n",
       "    <tr>\n",
       "      <th>2</th>\n",
       "      <td>3999</td>\n",
       "      <td>0.998286</td>\n",
       "      <td>0.998250</td>\n",
       "      <td>0.000036</td>\n",
       "    </tr>\n",
       "    <tr>\n",
       "      <th>3</th>\n",
       "      <td>4799</td>\n",
       "      <td>0.998286</td>\n",
       "      <td>0.998275</td>\n",
       "      <td>0.000011</td>\n",
       "    </tr>\n",
       "    <tr>\n",
       "      <th>4</th>\n",
       "      <td>5599</td>\n",
       "      <td>0.998286</td>\n",
       "      <td>0.998276</td>\n",
       "      <td>0.000011</td>\n",
       "    </tr>\n",
       "    <tr>\n",
       "      <th>5</th>\n",
       "      <td>7199</td>\n",
       "      <td>0.998286</td>\n",
       "      <td>0.998284</td>\n",
       "      <td>0.000002</td>\n",
       "    </tr>\n",
       "    <tr>\n",
       "      <th>6</th>\n",
       "      <td>6399</td>\n",
       "      <td>0.998286</td>\n",
       "      <td>0.998302</td>\n",
       "      <td>-0.000015</td>\n",
       "    </tr>\n",
       "    <tr>\n",
       "      <th>7</th>\n",
       "      <td>1599</td>\n",
       "      <td>0.998286</td>\n",
       "      <td>0.998304</td>\n",
       "      <td>-0.000018</td>\n",
       "    </tr>\n",
       "    <tr>\n",
       "      <th>8</th>\n",
       "      <td>2399</td>\n",
       "      <td>0.998286</td>\n",
       "      <td>0.998320</td>\n",
       "      <td>-0.000034</td>\n",
       "    </tr>\n",
       "    <tr>\n",
       "      <th>9</th>\n",
       "      <td>799</td>\n",
       "      <td>0.998286</td>\n",
       "      <td>0.998321</td>\n",
       "      <td>-0.000034</td>\n",
       "    </tr>\n",
       "  </tbody>\n",
       "</table>\n",
       "</div>"
      ]
     },
     "execution_count": 39,
     "metadata": {},
     "output_type": "execute_result"
    }
   ],
   "execution_count": 39
  }
 ],
 "metadata": {
  "kernelspec": {
   "display_name": "Python 3",
   "language": "python",
   "name": "python3"
  },
  "language_info": {
   "codemirror_mode": {
    "name": "ipython",
    "version": 3
   },
   "file_extension": ".py",
   "mimetype": "text/x-python",
   "name": "python",
   "nbconvert_exporter": "python",
   "pygments_lexer": "ipython3",
   "version": "3.13.2"
  }
 },
 "nbformat": 4,
 "nbformat_minor": 5
}
